{
 "cells": [
  {
   "cell_type": "markdown",
   "id": "f4aede8d",
   "metadata": {
    "collapsed": true
   },
   "source": [
    "# Hacker News: DataQuest Project #2"
   ]
  },
  {
   "cell_type": "markdown",
   "id": "f0695f3a",
   "metadata": {},
   "source": [
    "### To characterize Ask HN and Show HN posts to HN"
   ]
  },
  {
   "cell_type": "markdown",
   "id": "d0b13dd5",
   "metadata": {},
   "source": [
    "# Import the data"
   ]
  },
  {
   "cell_type": "code",
   "execution_count": 1,
   "id": "6ad5234d",
   "metadata": {},
   "outputs": [
    {
     "name": "stdout",
     "output_type": "stream",
     "text": [
      "[['12224879', 'Interactive Dynamic Video', 'http://www.interactivedynamicvideo.com/', '386', '52', 'ne0phyte', '8/4/2016 11:52'], ['10975351', 'How to Use Open Source and Shut the Fuck Up at the Same Time', 'http://hueniverse.com/2016/01/26/how-to-use-open-source-and-shut-the-fuck-up-at-the-same-time/', '39', '10', 'josep2', '1/26/2016 19:30']]\n"
     ]
    }
   ],
   "source": [
    "from csv import reader\n",
    "open_hn = open('hacker_news.csv')\n",
    "read_hn = reader(open_hn)\n",
    "list_hn = list(read_hn)\n",
    "hn = list_hn[1:]\n",
    "print(hn[:2])"
   ]
  },
  {
   "cell_type": "code",
   "execution_count": 2,
   "id": "446797a4",
   "metadata": {
    "scrolled": true
   },
   "outputs": [
    {
     "name": "stdout",
     "output_type": "stream",
     "text": [
      "['id', 'title', 'url', 'num_points', 'num_comments', 'author', 'created_at']\n"
     ]
    }
   ],
   "source": [
    "headers = list_hn[0]\n",
    "print(headers)"
   ]
  },
  {
   "cell_type": "markdown",
   "id": "331241a1",
   "metadata": {},
   "source": [
    "#### Split posts into 3 categories:\n",
    "    Ask: questions posed\n",
    "    Show: how to\n",
    "    Other: other posts"
   ]
  },
  {
   "cell_type": "code",
   "execution_count": 3,
   "id": "f1ba59e2",
   "metadata": {},
   "outputs": [],
   "source": [
    "ask_posts = []\n",
    "show_posts = []\n",
    "other_posts = []"
   ]
  },
  {
   "cell_type": "code",
   "execution_count": 4,
   "id": "1dc87f80",
   "metadata": {},
   "outputs": [
    {
     "name": "stdout",
     "output_type": "stream",
     "text": [
      "1744\n",
      "1162\n",
      "18938\n"
     ]
    }
   ],
   "source": [
    "for row in hn:\n",
    "    title = row[1]\n",
    "    title = title.lower()\n",
    "    if title.startswith('ask hn'):\n",
    "        ask_posts.append(row)\n",
    "    if title.startswith('show hn'):\n",
    "        show_posts.append(row)\n",
    "    else:\n",
    "        other_posts.append(row)\n",
    "print(len(ask_posts))\n",
    "print(len(show_posts))\n",
    "print(len(other_posts))"
   ]
  },
  {
   "cell_type": "markdown",
   "id": "fab20aec",
   "metadata": {},
   "source": [
    "# Determine number of comments for posts"
   ]
  },
  {
   "cell_type": "markdown",
   "id": "26ad3e1c",
   "metadata": {},
   "source": [
    "To determine number of comments on ask posts"
   ]
  },
  {
   "cell_type": "code",
   "execution_count": 5,
   "id": "f798993c",
   "metadata": {},
   "outputs": [
    {
     "name": "stdout",
     "output_type": "stream",
     "text": [
      "Total number of comments for ask posts: 24483\n",
      "Average number of comments for ask posts: 14.04\n"
     ]
    }
   ],
   "source": [
    "total_ask_comments = 0\n",
    "for row in ask_posts:\n",
    "    comments = int(row[4])\n",
    "    total_ask_comments += comments\n",
    "avg_ask_comments = total_ask_comments/len(ask_posts)\n",
    "print(f'Total number of comments for ask posts: {total_ask_comments}')\n",
    "print(f'Average number of comments for ask posts: {avg_ask_comments:.2f}')"
   ]
  },
  {
   "cell_type": "markdown",
   "id": "6d8a1736",
   "metadata": {},
   "source": [
    "To determine number of comments on show posts"
   ]
  },
  {
   "cell_type": "code",
   "execution_count": 6,
   "id": "d38e1d5f",
   "metadata": {},
   "outputs": [
    {
     "name": "stdout",
     "output_type": "stream",
     "text": [
      "Total number of show comments: 11988\n",
      "Average number of show comments: 10.32\n"
     ]
    }
   ],
   "source": [
    "total_show_comments = 0\n",
    "for row in show_posts:\n",
    "    total_show_comments += int(row[4])\n",
    "avg_show_comments = total_show_comments/len(show_posts)\n",
    "print('Total number of show comments:',total_show_comments)\n",
    "print(f'Average number of show comments: {avg_show_comments:.2f}')\n",
    "    "
   ]
  },
  {
   "cell_type": "markdown",
   "id": "ce11ca43",
   "metadata": {},
   "source": [
    "More comments are made on Ask HN posts than Show HN posts"
   ]
  },
  {
   "cell_type": "markdown",
   "id": "d34fe756",
   "metadata": {},
   "source": [
    "# Determine frequency of posting throughout a day for Ask HN posts"
   ]
  },
  {
   "cell_type": "code",
   "execution_count": 7,
   "id": "e8797d1b",
   "metadata": {},
   "outputs": [],
   "source": [
    "post_per_hod = {}   # posts per hour of the day\n",
    "comm_per_hod = {}   # comments per hour of the day\n",
    "import datetime as dt\n",
    "for row in ask_posts:\n",
    "    raw_date = row[6]\n",
    "    comments = int(row[4])\n",
    "    row[4] = comments\n",
    "    date = dt.datetime.strptime(raw_date, '%m/%d/%Y %H:%M')\n",
    "    row[6] = date\n",
    "    hour = date.strftime('%H')\n",
    "    if hour in post_per_hod:\n",
    "        post_per_hod[hour] += 1\n",
    "        comm_per_hod[hour] += comments\n",
    "    else:\n",
    "        post_per_hod[hour] = 1\n",
    "        comm_per_hod[hour] = comments\n",
    "        "
   ]
  },
  {
   "cell_type": "markdown",
   "id": "058138c8",
   "metadata": {},
   "source": [
    "# Determine the average number of comments for posts created during the hour it was made"
   ]
  },
  {
   "cell_type": "code",
   "execution_count": 8,
   "id": "8a214690",
   "metadata": {},
   "outputs": [
    {
     "name": "stdout",
     "output_type": "stream",
     "text": [
      "[['09', 5.5777777777777775], ['13', 14.741176470588234], ['10', 13.440677966101696], ['14', 13.233644859813085], ['16', 16.796296296296298], ['23', 7.985294117647059], ['12', 9.41095890410959], ['17', 11.46], ['15', 38.5948275862069], ['21', 16.009174311926607], ['20', 21.525], ['02', 23.810344827586206], ['18', 13.20183486238532], ['03', 7.796296296296297], ['05', 10.08695652173913], ['19', 10.8], ['01', 11.383333333333333], ['22', 6.746478873239437], ['08', 10.25], ['04', 7.170212765957447], ['00', 8.127272727272727], ['06', 9.022727272727273], ['07', 7.852941176470588], ['11', 11.051724137931034]]\n"
     ]
    }
   ],
   "source": [
    "avg_by_hour = []\n",
    "for key in comm_per_hod:\n",
    "    avg_p = comm_per_hod[key]/post_per_hod[key]\n",
    "    avg_by_hour.append([key, avg_p])\n",
    "print(avg_by_hour)"
   ]
  },
  {
   "cell_type": "markdown",
   "id": "d11c5df6",
   "metadata": {},
   "source": [
    "# Display data by hour"
   ]
  },
  {
   "cell_type": "code",
   "execution_count": 9,
   "id": "5ac0943c",
   "metadata": {
    "scrolled": true
   },
   "outputs": [
    {
     "name": "stdout",
     "output_type": "stream",
     "text": [
      "['0000', '8.13']\n",
      "['0100', '11.38']\n",
      "['0200', '23.81']\n",
      "['0300', '7.80']\n",
      "['0400', '7.17']\n",
      "['0500', '10.09']\n",
      "['0600', '9.02']\n",
      "['0700', '7.85']\n",
      "['0800', '10.25']\n",
      "['0900', '5.58']\n",
      "['1000', '13.44']\n",
      "['1100', '11.05']\n",
      "['1200', '9.41']\n",
      "['1300', '14.74']\n",
      "['1400', '13.23']\n",
      "['1500', '38.59']\n",
      "['1600', '16.80']\n",
      "['1700', '11.46']\n",
      "['1800', '13.20']\n",
      "['1900', '10.80']\n",
      "['2000', '21.52']\n",
      "['2100', '16.01']\n",
      "['2200', '6.75']\n",
      "['2300', '7.99']\n"
     ]
    }
   ],
   "source": [
    "shunk = sorted(avg_by_hour)\n",
    "for i in shunk:\n",
    "    print([f'{i[0]}00', f'{i[1]:.2f}'])"
   ]
  },
  {
   "cell_type": "markdown",
   "id": "d4fef9b7",
   "metadata": {},
   "source": [
    "# Reformat the data in a easy to interpret manner and display the top 5 hours for comments/post"
   ]
  },
  {
   "cell_type": "code",
   "execution_count": 10,
   "id": "dc197ec7",
   "metadata": {},
   "outputs": [
    {
     "name": "stdout",
     "output_type": "stream",
     "text": [
      "['38.59', '1500']\n",
      "['23.81', '0200']\n",
      "['21.52', '2000']\n",
      "['16.80', '1600']\n",
      "['16.01', '2100']\n"
     ]
    }
   ],
   "source": [
    "swap_list = []\n",
    "for row in avg_by_hour:\n",
    "    time = f'{row[0]}00'\n",
    "    cpph = row[1]\n",
    "    swap_list.append([cpph, time])\n",
    "    swap_list = sorted(swap_list, reverse=True)\n",
    "for i in swap_list[:5]:\n",
    "    print([f'{i[0]:.2f}',i[1]])"
   ]
  },
  {
   "cell_type": "markdown",
   "id": "8663665f",
   "metadata": {},
   "source": [
    "# Presented above are the top 5 times to create a post in order to get the most comments/activity"
   ]
  },
  {
   "cell_type": "code",
   "execution_count": null,
   "id": "c3877a7f",
   "metadata": {},
   "outputs": [],
   "source": []
  }
 ],
 "metadata": {
  "kernelspec": {
   "display_name": "Python 3 (ipykernel)",
   "language": "python",
   "name": "python3"
  },
  "language_info": {
   "codemirror_mode": {
    "name": "ipython",
    "version": 3
   },
   "file_extension": ".py",
   "mimetype": "text/x-python",
   "name": "python",
   "nbconvert_exporter": "python",
   "pygments_lexer": "ipython3",
   "version": "3.9.7"
  }
 },
 "nbformat": 4,
 "nbformat_minor": 5
}
